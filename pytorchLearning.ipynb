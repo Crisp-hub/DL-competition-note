{
 "cells": [
  {
   "cell_type": "code",
   "execution_count": 1,
   "id": "4fa95af5",
   "metadata": {},
   "outputs": [],
   "source": [
    "import torch\n",
    "import numpy as np \n"
   ]
  },
  {
   "cell_type": "markdown",
   "id": "f2a56d26",
   "metadata": {},
   "source": [
    "## tensor基本操作"
   ]
  },
  {
   "cell_type": "code",
   "execution_count": 16,
   "id": "7fb18520",
   "metadata": {},
   "outputs": [
    {
     "name": "stdout",
     "output_type": "stream",
     "text": [
      "torch.Size([2, 2])\n"
     ]
    }
   ],
   "source": [
    "x = torch.tensor([[1,1],[1,-1]] )\n",
    "x_float = x.float().to('cuda')\n",
    "print(x.shape)"
   ]
  },
  {
   "cell_type": "code",
   "execution_count": 17,
   "id": "e2af30da",
   "metadata": {
    "scrolled": true
   },
   "outputs": [
    {
     "name": "stdout",
     "output_type": "stream",
     "text": [
      "torch.Size([2, 8, 3])\n",
      "tensor(2., device='cuda:0') tensor(0.5000, device='cuda:0')\n"
     ]
    }
   ],
   "source": [
    "x2 = torch.zeros([2,1,3])\n",
    "y = torch.zeros([2,4,3])\n",
    "z = torch.zeros([2,3,3])\n",
    "\n",
    "w = torch.cat([x2, y, z],dim = 1)\n",
    "print(w.shape)\n",
    "\n",
    "sum_ = x_float.sum()\n",
    "mean_ = x_float.mean()\n",
    "\n",
    "print(sum_,mean_)"
   ]
  },
  {
   "cell_type": "code",
   "execution_count": 18,
   "id": "bdac0cc8",
   "metadata": {
    "scrolled": true
   },
   "outputs": [
    {
     "name": "stdout",
     "output_type": "stream",
     "text": [
      "True\n"
     ]
    }
   ],
   "source": [
    "print(torch.cuda.is_available())"
   ]
  },
  {
   "cell_type": "markdown",
   "id": "6bd0cbd7",
   "metadata": {},
   "source": [
    "## torch中微分的计算以及反向传播的使用"
   ]
  },
  {
   "cell_type": "code",
   "execution_count": 21,
   "id": "9efbfea0",
   "metadata": {
    "scrolled": true
   },
   "outputs": [
    {
     "name": "stdout",
     "output_type": "stream",
     "text": [
      "tensor([[ 2.,  0.],\n",
      "        [-2.,  2.]])\n"
     ]
    }
   ],
   "source": [
    "\n",
    "x = torch.tensor([[1.,0.],[-1.,1.]], requires_grad = True)\n",
    "z = x.pow(2).sum()\n",
    "z.backward()\n",
    "print(x.grad)"
   ]
  },
  {
   "cell_type": "code",
   "execution_count": null,
   "id": "e5aa985e",
   "metadata": {},
   "outputs": [],
   "source": []
  }
 ],
 "metadata": {
  "kernelspec": {
   "display_name": "Python 3 (ipykernel)",
   "language": "python",
   "name": "python3"
  },
  "language_info": {
   "codemirror_mode": {
    "name": "ipython",
    "version": 3
   },
   "file_extension": ".py",
   "mimetype": "text/x-python",
   "name": "python",
   "nbconvert_exporter": "python",
   "pygments_lexer": "ipython3",
   "version": "3.10.9"
  }
 },
 "nbformat": 4,
 "nbformat_minor": 5
}

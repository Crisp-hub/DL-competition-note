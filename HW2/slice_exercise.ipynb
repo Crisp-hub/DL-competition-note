{
 "cells": [
  {
   "cell_type": "code",
   "execution_count": 22,
   "id": "82736153-a373-4143-823c-e3fdc6d5339a",
   "metadata": {},
   "outputs": [
    {
     "name": "stdout",
     "output_type": "stream",
     "text": [
      "tensor([[1, 2, 3]]) tensor([[1, 2, 3]]) tensor([[1, 2, 3]]) tensor([[1, 2, 3]])\n",
      "y: tensor([[7, 8, 9]])\n"
     ]
    }
   ],
   "source": [
    "import torch\n",
    "import torch.nn as nn \n",
    "import numpy as np\n",
    "x = torch.tensor([[1,2,3],\n",
    "                  [4,5,6],\n",
    "                  [7,8,9],\n",
    "                  [10,11,12]])\n",
    "#1.使用不同的方法分别取出张量的四个单独行\n",
    "r11 = x[:1,:]\n",
    "r12 = x[:-(len(x) - 1),:] #从这里可以推导出对于二位张量来说，某一维度中元素的负坐标（从后往前）= -(len（该维大小）- 正坐标)\n",
    "r13 = x[-4:-3,:]\n",
    "r14 = x[0:1:,:]\n",
    "print(r11,r12,r13,r14)\n",
    "print(\"y:\",y)"
   ]
  },
  {
   "cell_type": "code",
   "execution_count": 8,
   "id": "918fca5e-3d71-4cf9-9c9f-8da4080d1869",
   "metadata": {},
   "outputs": [
    {
     "name": "stdout",
     "output_type": "stream",
     "text": [
      "0: [0 2 3 4 5 6 7 9]\n",
      "0: [1 8]\n",
      "1: [1 2 3 4 6 7 8 9]\n",
      "1: [0 5]\n",
      "2: [0 1 3 4 5 6 8 9]\n",
      "2: [2 7]\n",
      "3: [0 1 2 3 5 6 7 8]\n",
      "3: [4 9]\n",
      "4: [0 1 2 4 5 7 8 9]\n",
      "4: [3 6]\n"
     ]
    }
   ],
   "source": [
    "from sklearn.model_selection import KFold\n",
    "kf = KFold(n_splits = 5,shuffle = True, random_state = 42)\n",
    "X = [1,2,3,4,5,6,7,8,9,10]\n",
    "# print(kf.split(X))\n",
    "#可以看出k折交叉验证每次enumerate反回的是每次划分的一整个列表\n",
    "for k,(x,y) in enumerate(kf.split(X)):\n",
    "    print('{}:'.format(k),x)\n",
    "    print('{}:'.format(k),y)\n",
    "    "
   ]
  },
  {
   "cell_type": "code",
   "execution_count": null,
   "id": "4ada02a3-a920-48eb-9c41-cd6fa56f7fd6",
   "metadata": {},
   "outputs": [],
   "source": []
  }
 ],
 "metadata": {
  "kernelspec": {
   "display_name": "Python 3 (ipykernel)",
   "language": "python",
   "name": "python3"
  },
  "language_info": {
   "codemirror_mode": {
    "name": "ipython",
    "version": 3
   },
   "file_extension": ".py",
   "mimetype": "text/x-python",
   "name": "python",
   "nbconvert_exporter": "python",
   "pygments_lexer": "ipython3",
   "version": "3.10.14"
  }
 },
 "nbformat": 4,
 "nbformat_minor": 5
}

{
 "cells": [
  {
   "cell_type": "markdown",
   "id": "1954aead",
   "metadata": {},
   "source": [
    "# Utilities\n",
    "## preparing Data and TraingVisualization"
   ]
  },
  {
   "cell_type": "code",
   "execution_count": 1,
   "id": "830b013b",
   "metadata": {},
   "outputs": [],
   "source": [
    "import os \n",
    "import random\n",
    "import pandas as pd \n",
    "import numpy as np\n",
    "import torch\n",
    "from torch.utils.data import Dataset,DataLoader\n",
    "from tqdm import tqdm\n",
    "\n",
    "def load_feature(path):\n",
    "    feat = torch.load_feature(path)\n",
    "    return feat\n",
    "def shift(x, n):\n",
    "    '''\n",
    "    数据扩展，特征拼接\n",
    "    将输入张量x向左或向右移动n个距离用边界值填充移动后的空缺位置。\n",
    "    x：张量 n：移动距离，负为向右移动，反之向左移动\n",
    "    '''\n",
    "    if n < 0 :\n",
    "        left = x[:n]\n",
    "        right = x[0].repeat(-n, 1)\n",
    "    elif n > 0\n",
    "        left = x[-1].repeat(n, 1)\n",
    "        right = x[n:]\n",
    "    else:\n",
    "        return x\n",
    "    return torch.cat((left,right), dim = 0)\n",
    "        \n",
    "# # 示例数据\n",
    "# x = torch.tensor([[1, 2], [3, 4], [5, 6], [7, 8]])\n",
    "\n",
    "# # 例子 1：向左移动\n",
    "# print(\"向左移动 (-2):\")\n",
    "# print(shift(x, -2))\n",
    "\n",
    "# # 例子 2：向右移动\n",
    "# print(\"向右移动 (2):\")\n",
    "# print(shift(x, 2))\n",
    "\n",
    "# # 例子 3：不移动\n",
    "# print(\"不移动 (0):\")\n",
    "# print(shift(x, 0))\n",
    "\n",
    "def concat_feat(x,)"
   ]
  },
  {
   "cell_type": "code",
   "execution_count": null,
   "id": "790826d6",
   "metadata": {},
   "outputs": [],
   "source": []
  }
 ],
 "metadata": {
  "kernelspec": {
   "display_name": "Python 3 (ipykernel)",
   "language": "python",
   "name": "python3"
  },
  "language_info": {
   "codemirror_mode": {
    "name": "ipython",
    "version": 3
   },
   "file_extension": ".py",
   "mimetype": "text/x-python",
   "name": "python",
   "nbconvert_exporter": "python",
   "pygments_lexer": "ipython3",
   "version": "3.10.9"
  }
 },
 "nbformat": 4,
 "nbformat_minor": 5
}
